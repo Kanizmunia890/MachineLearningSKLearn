{
  "nbformat": 4,
  "nbformat_minor": 0,
  "metadata": {
    "colab": {
      "name": "knn_classifier.ipynb",
      "provenance": []
    },
    "kernelspec": {
      "name": "python3",
      "display_name": "Python 3"
    },
    "language_info": {
      "name": "python"
    }
  },
  "cells": [
    {
      "cell_type": "code",
      "execution_count": 1,
      "metadata": {
        "id": "S-CYneDLa8ag"
      },
      "outputs": [],
      "source": [
        "import numpy as np\n",
        "import pandas as pd\n",
        "from sklearn import neighbors, metrics, svm\n",
        "from sklearn.model_selection import train_test_split\n",
        "from sklearn.preprocessing import LabelEncoder"
      ]
    },
    {
      "cell_type": "code",
      "source": [
        "from matplotlib import pyplot as plt"
      ],
      "metadata": {
        "id": "ByEJrch7boNS"
      },
      "execution_count": 2,
      "outputs": []
    },
    {
      "cell_type": "code",
      "source": [
        "data = pd.read_csv('car.data')\n",
        "print(data.head())"
      ],
      "metadata": {
        "colab": {
          "base_uri": "https://localhost:8080/"
        },
        "id": "JLboNIpoboSa",
        "outputId": "50d3cb1e-23dd-4836-fd1c-da0ba5188bb4"
      },
      "execution_count": 12,
      "outputs": [
        {
          "output_type": "stream",
          "name": "stdout",
          "text": [
            "  buying  maint doors persons lug_boot safety  class\n",
            "0  vhigh  vhigh     2       2    small    low  unacc\n",
            "1  vhigh  vhigh     2       2    small    med  unacc\n",
            "2  vhigh  vhigh     2       2    small   high  unacc\n",
            "3  vhigh  vhigh     2       2      med    low  unacc\n",
            "4  vhigh  vhigh     2       2      med    med  unacc\n"
          ]
        }
      ]
    },
    {
      "cell_type": "code",
      "source": [
        "X = data[['buying', 'maint', 'safety']].values\n",
        "y = data[['class']]\n",
        "print(X,y)"
      ],
      "metadata": {
        "colab": {
          "base_uri": "https://localhost:8080/"
        },
        "id": "hYlZK_gxboVa",
        "outputId": "074de86d-3a99-4a15-b9b4-ea9cfb14b48c"
      },
      "execution_count": 14,
      "outputs": [
        {
          "output_type": "stream",
          "name": "stdout",
          "text": [
            "[['vhigh' 'vhigh' 'low']\n",
            " ['vhigh' 'vhigh' 'med']\n",
            " ['vhigh' 'vhigh' 'high']\n",
            " ...\n",
            " ['low' 'low' 'low']\n",
            " ['low' 'low' 'med']\n",
            " ['low' 'low' 'high']]       class\n",
            "0     unacc\n",
            "1     unacc\n",
            "2     unacc\n",
            "3     unacc\n",
            "4     unacc\n",
            "...     ...\n",
            "1723   good\n",
            "1724  vgood\n",
            "1725  unacc\n",
            "1726   good\n",
            "1727  vgood\n",
            "\n",
            "[1728 rows x 1 columns]\n"
          ]
        }
      ]
    },
    {
      "cell_type": "code",
      "source": [
        "#converting data_X\n",
        "Le=LabelEncoder()\n",
        "for i in range(len(X[0])):\n",
        "  X[:,i]=Le.fit_transform(X[:,i])\n",
        "\n",
        "print(X)"
      ],
      "metadata": {
        "colab": {
          "base_uri": "https://localhost:8080/"
        },
        "id": "MiFsuWdqboYS",
        "outputId": "6a9d30f5-111e-4c18-bdd0-c839c66bb6a1"
      },
      "execution_count": 15,
      "outputs": [
        {
          "output_type": "stream",
          "name": "stdout",
          "text": [
            "[[3 3 1]\n",
            " [3 3 2]\n",
            " [3 3 0]\n",
            " ...\n",
            " [1 1 1]\n",
            " [1 1 2]\n",
            " [1 1 0]]\n"
          ]
        }
      ]
    },
    {
      "cell_type": "code",
      "source": [
        "#converting data_y\n",
        "label_maping={\n",
        "    'unacc':0,\n",
        "    'acc':1,\n",
        "    'good':2,\n",
        "    'vgood':3\n",
        "}\n",
        "y['class']=y['class'].map(label_maping)\n",
        "y=np.array(y)\n",
        "print(y)"
      ],
      "metadata": {
        "colab": {
          "base_uri": "https://localhost:8080/"
        },
        "id": "2yqZRg0DbobC",
        "outputId": "4ce7629f-6150-4a94-b1dd-52d971078e11"
      },
      "execution_count": 17,
      "outputs": [
        {
          "output_type": "stream",
          "name": "stdout",
          "text": [
            "[[0]\n",
            " [0]\n",
            " [0]\n",
            " ...\n",
            " [0]\n",
            " [2]\n",
            " [3]]\n"
          ]
        },
        {
          "output_type": "stream",
          "name": "stderr",
          "text": [
            "/usr/local/lib/python3.7/dist-packages/ipykernel_launcher.py:8: SettingWithCopyWarning: \n",
            "A value is trying to be set on a copy of a slice from a DataFrame.\n",
            "Try using .loc[row_indexer,col_indexer] = value instead\n",
            "\n",
            "See the caveats in the documentation: https://pandas.pydata.org/pandas-docs/stable/user_guide/indexing.html#returning-a-view-versus-a-copy\n",
            "  \n"
          ]
        }
      ]
    },
    {
      "cell_type": "code",
      "source": [
        "#Creating model\n",
        "knn=neighbors.KNeighborsClassifier(n_neighbors=25,weights='uniform')\n",
        "X_train, X_test, y_train, y_test=train_test_split(X,y,test_size=0.2)\n",
        "knn.fit(X_train,y_train)\n",
        "prediction=knn.predict(X_test)\n",
        "accuracy=metrics.accuracy_score(y_test,prediction)\n",
        "print('Predictions: ',prediction)\n",
        "print('Accuracy: ',accuracy)"
      ],
      "metadata": {
        "colab": {
          "base_uri": "https://localhost:8080/"
        },
        "id": "icBakop7boeC",
        "outputId": "1928edd2-2f01-4f0d-f8ec-9fac0dc09c5e"
      },
      "execution_count": 18,
      "outputs": [
        {
          "output_type": "stream",
          "name": "stdout",
          "text": [
            "Predictions:  [1 0 0 1 1 0 1 0 0 1 0 0 0 0 0 0 0 0 0 0 0 0 0 0 1 3 0 0 0 0 3 0 0 0 0 0 1\n",
            " 0 0 0 1 0 0 0 0 1 0 0 0 0 0 0 1 0 2 1 0 3 1 1 1 0 0 1 0 1 1 1 0 0 0 0 0 0\n",
            " 3 1 0 1 0 0 0 3 0 0 0 0 0 1 0 3 0 0 0 0 0 0 0 1 0 0 0 0 0 0 0 1 2 1 0 0 0\n",
            " 0 0 1 0 0 0 1 1 3 0 3 0 0 0 1 1 0 0 0 0 1 0 0 0 0 3 0 0 0 3 0 0 3 0 0 0 0\n",
            " 0 1 1 0 0 0 0 1 1 1 1 1 3 0 1 1 0 0 2 0 0 2 1 0 0 0 0 0 1 1 0 0 0 1 0 0 2\n",
            " 0 0 0 0 0 1 0 0 0 0 0 0 0 0 0 1 0 0 0 0 0 0 3 0 0 0 0 0 0 0 0 0 0 0 2 0 3\n",
            " 1 0 0 0 1 0 0 3 0 0 0 0 0 0 1 0 1 0 0 0 0 0 1 1 1 0 0 0 0 1 0 0 1 1 0 3 0\n",
            " 0 0 0 0 0 0 2 3 0 0 0 0 0 1 0 0 0 0 2 0 0 0 0 0 1 0 1 0 1 0 0 1 0 1 0 0 0\n",
            " 0 0 1 0 0 0 3 0 0 0 1 0 0 1 0 0 0 1 3 0 0 3 0 0 0 0 1 1 0 0 0 0 0 0 0 0 3\n",
            " 0 1 1 0 1 0 1 0 0 1 0 0 2]\n",
            "Accuracy:  0.7572254335260116\n"
          ]
        },
        {
          "output_type": "stream",
          "name": "stderr",
          "text": [
            "/usr/local/lib/python3.7/dist-packages/sklearn/neighbors/_classification.py:198: DataConversionWarning: A column-vector y was passed when a 1d array was expected. Please change the shape of y to (n_samples,), for example using ravel().\n",
            "  return self._fit(X, y)\n"
          ]
        }
      ]
    },
    {
      "cell_type": "code",
      "source": [
        "print('Actual value: ',y[20])\n",
        "print('Predicted value: ',knn.predict(X)[20])"
      ],
      "metadata": {
        "colab": {
          "base_uri": "https://localhost:8080/"
        },
        "id": "KVHAkNn8bog6",
        "outputId": "aa825b77-6ad6-489f-ad22-d00e9ab0ffda"
      },
      "execution_count": 19,
      "outputs": [
        {
          "output_type": "stream",
          "name": "stdout",
          "text": [
            "Actual value:  [0]\n",
            "Predicted value:  0\n"
          ]
        }
      ]
    },
    {
      "cell_type": "code",
      "source": [
        "#Creating Model\n",
        "model=svm.SVC()\n",
        "model.fit(X_train,y_train)\n",
        "prediction=model.predict(X_test)\n",
        "acc=metrics.accuracy_score(y_test,prediction)\n",
        "print('Prediction: ',prediction)\n",
        "print('Accuracy: ',acc)"
      ],
      "metadata": {
        "colab": {
          "base_uri": "https://localhost:8080/"
        },
        "id": "pcpEkqhnbojz",
        "outputId": "0cae1bb2-89e7-45bd-93e7-5c988f03be8f"
      },
      "execution_count": 20,
      "outputs": [
        {
          "output_type": "stream",
          "name": "stdout",
          "text": [
            "Prediction:  [0 0 0 0 0 0 0 0 0 1 0 0 0 0 0 0 0 0 0 1 0 3 0 0 0 3 0 0 0 0 3 3 0 0 0 0 0\n",
            " 0 0 0 1 0 0 0 0 0 0 0 0 0 0 3 0 0 0 1 0 3 0 0 1 0 0 0 0 0 0 0 0 0 0 0 0 0\n",
            " 0 0 0 1 0 0 0 3 0 0 0 0 0 0 0 3 0 0 0 0 3 0 0 0 0 0 0 0 0 0 0 0 0 0 0 0 0\n",
            " 3 0 0 0 0 0 0 1 0 1 0 0 0 0 1 0 0 0 0 0 1 0 0 0 0 3 0 0 0 3 0 0 3 1 0 0 0\n",
            " 0 1 0 0 0 0 0 0 0 0 0 0 0 0 1 1 0 0 0 0 0 0 0 0 0 0 0 0 1 1 0 0 0 1 0 0 0\n",
            " 0 0 0 0 0 1 0 0 0 0 0 0 0 0 0 0 0 0 0 1 0 0 0 0 0 0 0 0 0 0 0 0 0 0 0 0 3\n",
            " 0 0 0 0 1 0 0 3 0 0 0 0 0 0 0 0 0 0 0 0 0 0 0 0 0 0 1 0 3 1 0 0 0 0 0 3 0\n",
            " 0 0 0 0 0 0 0 3 0 0 0 0 0 1 0 0 0 0 0 0 0 0 0 0 0 0 0 0 1 0 0 0 0 1 0 0 0\n",
            " 0 0 1 0 0 0 3 0 0 0 1 0 0 1 0 0 1 0 3 0 0 0 0 3 0 3 1 1 0 0 0 0 0 0 0 0 3\n",
            " 1 1 1 0 1 0 1 0 0 0 0 0 0]\n",
            "Accuracy:  0.7109826589595376\n"
          ]
        },
        {
          "output_type": "stream",
          "name": "stderr",
          "text": [
            "/usr/local/lib/python3.7/dist-packages/sklearn/utils/validation.py:993: DataConversionWarning: A column-vector y was passed when a 1d array was expected. Please change the shape of y to (n_samples, ), for example using ravel().\n",
            "  y = column_or_1d(y, warn=True)\n"
          ]
        }
      ]
    },
    {
      "cell_type": "code",
      "source": [
        ""
      ],
      "metadata": {
        "id": "n3K-hfQ5bonG"
      },
      "execution_count": null,
      "outputs": []
    }
  ]
}